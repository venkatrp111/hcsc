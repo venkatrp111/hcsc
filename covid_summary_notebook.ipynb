{
 "cells": [
  {
   "cell_type": "markdown",
   "metadata": {},
   "source": [
    "# Notebook for generating covid summary data set"
   ]
  },
  {
   "cell_type": "markdown",
   "metadata": {},
   "source": [
    "Importing required dependencies"
   ]
  },
  {
   "cell_type": "code",
   "execution_count": 2,
   "metadata": {},
   "outputs": [],
   "source": [
    "import os\n",
    "import sys\n",
    "import pandas as pd\n",
    "import logging\n",
    "logging.basicConfig(filename='logging.txt', filemode='w', format='%(asctime)s %(levelname)s %(message)s' , datefmt='%m/%d/%Y %H:%M:%S ')\n"
   ]
  },
  {
   "cell_type": "markdown",
   "metadata": {},
   "source": [
    "reading the data"
   ]
  },
  {
   "cell_type": "code",
   "execution_count": 4,
   "metadata": {},
   "outputs": [],
   "source": [
    "counties_df = pd.read_csv('https://raw.githubusercontent.com/nytimes/covid-19-data/master/us-counties.csv')\n",
    "population_survey_df = pd.read_csv('https://www2.census.gov/programs-surveys/popest/datasets/2010-2019/counties/totals/co-est2019-alldata.csv', encoding='latin-1', usecols=['POPESTIMATE2019', 'STATE', 'COUNTY'])\n"
   ]
  },
  {
   "cell_type": "code",
   "execution_count": 5,
   "metadata": {},
   "outputs": [
    {
     "data": {
      "text/html": [
       "<div>\n",
       "<style scoped>\n",
       "    .dataframe tbody tr th:only-of-type {\n",
       "        vertical-align: middle;\n",
       "    }\n",
       "\n",
       "    .dataframe tbody tr th {\n",
       "        vertical-align: top;\n",
       "    }\n",
       "\n",
       "    .dataframe thead th {\n",
       "        text-align: right;\n",
       "    }\n",
       "</style>\n",
       "<table border=\"1\" class=\"dataframe\">\n",
       "  <thead>\n",
       "    <tr style=\"text-align: right;\">\n",
       "      <th></th>\n",
       "      <th>date</th>\n",
       "      <th>county</th>\n",
       "      <th>state</th>\n",
       "      <th>fips</th>\n",
       "      <th>cases</th>\n",
       "      <th>deaths</th>\n",
       "    </tr>\n",
       "  </thead>\n",
       "  <tbody>\n",
       "    <tr>\n",
       "      <th>0</th>\n",
       "      <td>2020-01-21</td>\n",
       "      <td>Snohomish</td>\n",
       "      <td>Washington</td>\n",
       "      <td>53061.0</td>\n",
       "      <td>1</td>\n",
       "      <td>0.0</td>\n",
       "    </tr>\n",
       "    <tr>\n",
       "      <th>1</th>\n",
       "      <td>2020-01-22</td>\n",
       "      <td>Snohomish</td>\n",
       "      <td>Washington</td>\n",
       "      <td>53061.0</td>\n",
       "      <td>1</td>\n",
       "      <td>0.0</td>\n",
       "    </tr>\n",
       "    <tr>\n",
       "      <th>2</th>\n",
       "      <td>2020-01-23</td>\n",
       "      <td>Snohomish</td>\n",
       "      <td>Washington</td>\n",
       "      <td>53061.0</td>\n",
       "      <td>1</td>\n",
       "      <td>0.0</td>\n",
       "    </tr>\n",
       "  </tbody>\n",
       "</table>\n",
       "</div>"
      ],
      "text/plain": [
       "         date     county       state     fips  cases  deaths\n",
       "0  2020-01-21  Snohomish  Washington  53061.0      1     0.0\n",
       "1  2020-01-22  Snohomish  Washington  53061.0      1     0.0\n",
       "2  2020-01-23  Snohomish  Washington  53061.0      1     0.0"
      ]
     },
     "execution_count": 5,
     "metadata": {},
     "output_type": "execute_result"
    }
   ],
   "source": [
    "counties_df.head(3)"
   ]
  },
  {
   "cell_type": "code",
   "execution_count": 6,
   "metadata": {},
   "outputs": [
    {
     "data": {
      "text/plain": [
       "date       object\n",
       "county     object\n",
       "state      object\n",
       "fips      float64\n",
       "cases       int64\n",
       "deaths    float64\n",
       "dtype: object"
      ]
     },
     "execution_count": 6,
     "metadata": {},
     "output_type": "execute_result"
    }
   ],
   "source": [
    "counties_df.dtypes"
   ]
  },
  {
   "cell_type": "code",
   "execution_count": 7,
   "metadata": {},
   "outputs": [
    {
     "data": {
      "text/html": [
       "<div>\n",
       "<style scoped>\n",
       "    .dataframe tbody tr th:only-of-type {\n",
       "        vertical-align: middle;\n",
       "    }\n",
       "\n",
       "    .dataframe tbody tr th {\n",
       "        vertical-align: top;\n",
       "    }\n",
       "\n",
       "    .dataframe thead th {\n",
       "        text-align: right;\n",
       "    }\n",
       "</style>\n",
       "<table border=\"1\" class=\"dataframe\">\n",
       "  <thead>\n",
       "    <tr style=\"text-align: right;\">\n",
       "      <th></th>\n",
       "      <th>STATE</th>\n",
       "      <th>COUNTY</th>\n",
       "      <th>POPESTIMATE2019</th>\n",
       "    </tr>\n",
       "  </thead>\n",
       "  <tbody>\n",
       "    <tr>\n",
       "      <th>0</th>\n",
       "      <td>1</td>\n",
       "      <td>0</td>\n",
       "      <td>4903185</td>\n",
       "    </tr>\n",
       "    <tr>\n",
       "      <th>1</th>\n",
       "      <td>1</td>\n",
       "      <td>1</td>\n",
       "      <td>55869</td>\n",
       "    </tr>\n",
       "    <tr>\n",
       "      <th>2</th>\n",
       "      <td>1</td>\n",
       "      <td>3</td>\n",
       "      <td>223234</td>\n",
       "    </tr>\n",
       "  </tbody>\n",
       "</table>\n",
       "</div>"
      ],
      "text/plain": [
       "   STATE  COUNTY  POPESTIMATE2019\n",
       "0      1       0          4903185\n",
       "1      1       1            55869\n",
       "2      1       3           223234"
      ]
     },
     "execution_count": 7,
     "metadata": {},
     "output_type": "execute_result"
    }
   ],
   "source": [
    "population_survey_df.head(3)"
   ]
  },
  {
   "cell_type": "code",
   "execution_count": 8,
   "metadata": {},
   "outputs": [
    {
     "data": {
      "text/plain": [
       "STATE              int64\n",
       "COUNTY             int64\n",
       "POPESTIMATE2019    int64\n",
       "dtype: object"
      ]
     },
     "execution_count": 8,
     "metadata": {},
     "output_type": "execute_result"
    }
   ],
   "source": [
    "population_survey_df.dtypes"
   ]
  },
  {
   "cell_type": "code",
   "execution_count": 9,
   "metadata": {},
   "outputs": [],
   "source": [
    "counties_array=counties_df.state.unique()"
   ]
  },
  {
   "cell_type": "markdown",
   "metadata": {},
   "source": [
    "number of states"
   ]
  },
  {
   "cell_type": "code",
   "execution_count": 10,
   "metadata": {},
   "outputs": [
    {
     "data": {
      "text/plain": [
       "55"
      ]
     },
     "execution_count": 10,
     "metadata": {},
     "output_type": "execute_result"
    }
   ],
   "source": [
    "len(counties_array)"
   ]
  },
  {
   "cell_type": "markdown",
   "metadata": {},
   "source": [
    "\"\"\"Function for data cleaning\"\"\""
   ]
  },
  {
   "cell_type": "code",
   "execution_count": 11,
   "metadata": {},
   "outputs": [],
   "source": [
    "def data_cleaning(covid19_df, population_df):\n",
    "    \"\"\"Function for data cleaning\"\"\"\n",
    "    print('Cleaning the data . . .')\n",
    "    # Renaming Column names\n",
    "    covid19_df_rename = {'date': 'Date', 'county': 'County', 'state': 'State',\n",
    "                         'fips': 'FIPS', 'cases': 'Cases', 'deaths': 'Deaths'}\n",
    "    covid19_df.columns = [covid19_df_rename.get(x) for x in covid19_df.columns]\n",
    "    #formating the state and county\n",
    "    population_df['STATE'] = population_df['STATE'].map('{:0>2}'.format)\n",
    "    population_df['COUNTY'] = population_df['COUNTY'].map('{:0>3}'.format)\n",
    "    #creating fips by joining state and county\n",
    "    population_df['FIPS'] = population_df['STATE'] + population_df['COUNTY']\n",
    "    #dropping state and county column\n",
    "    population_df = population_df.drop(['STATE', 'COUNTY'], axis=1)\n",
    "    #dealing na values in fips column\n",
    "    covid19_df['FIPS'] = covid19_df['FIPS'].fillna(0).astype(int)\n",
    "    #formating fips column\n",
    "    covid19_df['FIPS'] = covid19_df['FIPS'].map('{:0>5}'.format)\n",
    "\n",
    "    #converting all the date formats to single format\n",
    "    covid19_df['Date'] = pd.to_datetime(covid19_df['Date'], format='%Y-%m-%d')\n",
    "\n",
    "    # sorting the df by date\n",
    "    covid19_df = covid19_df.sort_values(by='Date', ascending=True, ignore_index=True)\n",
    "\n",
    "    return (covid19_df, population_df)"
   ]
  },
  {
   "cell_type": "markdown",
   "metadata": {},
   "source": [
    "\"\"\"Function for merging dataframes\"\"\""
   ]
  },
  {
   "cell_type": "code",
   "execution_count": 12,
   "metadata": {},
   "outputs": [],
   "source": [
    "def merge_dfs(covid_df, popltn_df):\n",
    "    \"\"\"Function for merging dataframes\"\"\"\n",
    "    print('Merging data frames ... ')\n",
    "    merged_df = pd.merge(covid_df, popltn_df, on=['FIPS'], how='left')\n",
    "    #dealing na values\n",
    "    merged_df['POPESTIMATE2019'] = merged_df['POPESTIMATE2019'].fillna(0).astype(int)\n",
    "    merged_df.columns = ['Date', 'County', 'State', 'FIPS', 'Daily Cases',\n",
    "                         'Daily Deaths', 'POPESTIMATE2019']\n",
    "    #sorting the df\n",
    "    merged_df = merged_df.sort_values(by=['Date', 'State', 'County'], ascending=[True, True, True])\n",
    "    return merged_df"
   ]
  },
  {
   "cell_type": "markdown",
   "metadata": {},
   "source": [
    "#calculating cumulative cases and deaths"
   ]
  },
  {
   "cell_type": "code",
   "execution_count": 13,
   "metadata": {},
   "outputs": [],
   "source": [
    "def total_counts(merged_df):\n",
    "    \"\"\"Function for generating summary dataset\"\"\"\n",
    "    #calculating cumulative cases and deaths\n",
    "    print('Generating counts ...')\n",
    "    merged_df['Cumulative Cases'] = merged_df.groupby(by=['FIPS'])['Daily Cases'].transform(lambda x: x.cumsum())\n",
    "    merged_df['Cumulative Deaths'] = merged_df.groupby(by=['FIPS'])['Daily Deaths'].transform(lambda x: x.cumsum())\n",
    "    merged_df = merged_df[['FIPS', 'Date', 'County', 'State', 'POPESTIMATE2019',\n",
    "                           'Daily Cases', 'Daily Deaths', 'Cumulative Cases', 'Cumulative Deaths']]\n",
    "    merged_df.to_csv('covid_summary.csv', index=False)\n",
    "    print('Summary Data set generated')\n"
   ]
  },
  {
   "cell_type": "markdown",
   "metadata": {},
   "source": [
    "  \"\"\"Generating summary dataset\"\"\""
   ]
  },
  {
   "cell_type": "code",
   "execution_count": 14,
   "metadata": {},
   "outputs": [
    {
     "name": "stdout",
     "output_type": "stream",
     "text": [
      "Cleaning the data . . .\n",
      "Merging data frames ... \n",
      "Summary data set not generated, No such file or directory\n"
     ]
    }
   ],
   "source": [
    "def main():\n",
    "    \"\"\"Generating summary dataset\"\"\"\n",
    "    try:\n",
    "        (covid_d, pop_d) = data_cleaning(counties_df, population_survey_df)\n",
    "        merged_df = merge_dfs(covid_d, pop_d)\n",
    "        #changing the directory according to output path\n",
    "        os.chdir(sys.argv[1])\n",
    "        total_counts(merged_df)\n",
    "    except IndexError:\n",
    "        print(\"Summary data set not generated, Please provide correct output\")\n",
    "        logging.warning('Summary data set not generated, Please provide correct output')\n",
    "    except FileNotFoundError:\n",
    "        print('Summary data set not generated, No such file or directory')\n",
    "        logging.warning('Summary data set not generated, No such file or directory')\n",
    "\n",
    "if __name__ == \"__main__\":\n",
    "    main()\n",
    "    "
   ]
  },
  {
   "cell_type": "code",
   "execution_count": 15,
   "metadata": {},
   "outputs": [
    {
     "name": "stdout",
     "output_type": "stream",
     "text": [
      "1.0.5\n"
     ]
    }
   ],
   "source": [
    "print(pd.__version__)"
   ]
  },
  {
   "cell_type": "code",
   "execution_count": 18,
   "metadata": {},
   "outputs": [
    {
     "name": "stdout",
     "output_type": "stream",
     "text": [
      "0.5.1.2\n"
     ]
    }
   ],
   "source": [
    "print(logging.__version__)"
   ]
  },
  {
   "cell_type": "markdown",
   "metadata": {},
   "source": [
    "percentage of Cook County Illinois has died of COVID 19"
   ]
  },
  {
   "cell_type": "code",
   "execution_count": 46,
   "metadata": {},
   "outputs": [],
   "source": [
    "#reading the output generated\n",
    "outputdf = pd.read_csv('covid_summary.csv')"
   ]
  },
  {
   "cell_type": "code",
   "execution_count": 47,
   "metadata": {},
   "outputs": [],
   "source": [
    "#filtering cumulative dealths of counties and state as of today\n",
    "cumulative_deaths = outputdf.loc[outputdf['Date'] == '2021-05-09']"
   ]
  },
  {
   "cell_type": "code",
   "execution_count": 48,
   "metadata": {},
   "outputs": [],
   "source": [
    "#total deaths as of today for all counties in all states in usa\n",
    "Total = cumulative_deaths['Cumulative Deaths'].sum()"
   ]
  },
  {
   "cell_type": "code",
   "execution_count": 49,
   "metadata": {},
   "outputs": [
    {
     "data": {
      "text/plain": [
       "406677789.0"
      ]
     },
     "execution_count": 49,
     "metadata": {},
     "output_type": "execute_result"
    }
   ],
   "source": [
    "Total"
   ]
  },
  {
   "cell_type": "code",
   "execution_count": 54,
   "metadata": {},
   "outputs": [],
   "source": [
    "#total deaths of cook county from illinois state\n",
    "cook_illinois_deaths=cumulative_deaths.loc[(cumulative_deaths['County']=='Cook') & (cumulative_deaths['State'] == 'Illinois')]"
   ]
  },
  {
   "cell_type": "code",
   "execution_count": 51,
   "metadata": {},
   "outputs": [
    {
     "data": {
      "text/plain": [
       "1300885    2535259.0\n",
       "Name: Cumulative Deaths, dtype: float64"
      ]
     },
     "execution_count": 51,
     "metadata": {},
     "output_type": "execute_result"
    }
   ],
   "source": [
    "cook_illinois_deaths['Cumulative Deaths']"
   ]
  },
  {
   "cell_type": "code",
   "execution_count": 53,
   "metadata": {},
   "outputs": [
    {
     "data": {
      "text/plain": [
       "1300885    0.623407\n",
       "Name: Cumulative Deaths, dtype: float64"
      ]
     },
     "execution_count": 53,
     "metadata": {},
     "output_type": "execute_result"
    }
   ],
   "source": [
    "((cook_illinois_deaths['Cumulative Deaths'])/Total)*100"
   ]
  },
  {
   "cell_type": "code",
   "execution_count": null,
   "metadata": {},
   "outputs": [],
   "source": []
  }
 ],
 "metadata": {
  "kernelspec": {
   "display_name": "Python 3",
   "language": "python",
   "name": "python3"
  },
  "language_info": {
   "codemirror_mode": {
    "name": "ipython",
    "version": 3
   },
   "file_extension": ".py",
   "mimetype": "text/x-python",
   "name": "python",
   "nbconvert_exporter": "python",
   "pygments_lexer": "ipython3",
   "version": "3.8.3"
  }
 },
 "nbformat": 4,
 "nbformat_minor": 4
}
